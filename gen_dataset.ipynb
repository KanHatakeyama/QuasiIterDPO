{
 "cells": [
  {
   "cell_type": "code",
   "execution_count": 1,
   "metadata": {},
   "outputs": [
    {
     "name": "stderr",
     "output_type": "stream",
     "text": [
      "/home/hatakeyama/miniconda3/envs/llmeval/lib/python3.11/site-packages/tqdm/auto.py:21: TqdmWarning: IProgress not found. Please update jupyter and ipywidgets. See https://ipywidgets.readthedocs.io/en/stable/user_install.html\n",
      "  from .autonotebook import tqdm as notebook_tqdm\n"
     ]
    }
   ],
   "source": [
    "from datasets import load_dataset\n",
    "import json"
   ]
  },
  {
   "cell_type": "code",
   "execution_count": 2,
   "metadata": {},
   "outputs": [],
   "source": [
    "#name=\"team-hatakeyama-phase2/Synthetic-JP-EN-Coding-Dataset-1.25M\"\n",
    "#ds=load_dataset(name,split=\"train\")"
   ]
  },
  {
   "cell_type": "code",
   "execution_count": 11,
   "metadata": {},
   "outputs": [],
   "source": [
    "\n",
    "dataset_name_list=[\n",
    "    (\"team-hatakeyama-phase2/synth-persona-jp-math-nemotron-4\",\"train\",10**4),\n",
    "    (\"team-hatakeyama-phase2/ChatBotLikeArena\",\"20240728\",10**4),\n",
    "    (\"team-hatakeyama-phase2/Synthetic-JP-EN-Coding-Dataset-1.25M\",\"train\",2*10**4),\n",
    "]"
   ]
  },
  {
   "cell_type": "code",
   "execution_count": 12,
   "metadata": {},
   "outputs": [],
   "source": [
    "i=0\n",
    "question_template=\"以下は、タスクを説明する指示と、文脈のある入力の組み合わせです。要求を適切に満たす応答を書きなさい。\\n\\n### 指示:\\n\"\n",
    "answer_template=\"\\n### 応答:\\n\"\n",
    "regen_record_list=[]\n",
    "for ds_name,split,n_records in dataset_name_list:\n",
    "    ds=load_dataset(ds_name,split=split)\n",
    "    ds=ds.shuffle()\n",
    "\n",
    "    cnt=0\n",
    "    for record in ds:\n",
    "        cnt+=1\n",
    "        if cnt>n_records:\n",
    "            break\n",
    "\n",
    "        if \"messages\" in record:\n",
    "            q=record[\"messages\"][0][\"content\"]\n",
    "            a=record[\"messages\"][1][\"content\"]\n",
    "        elif \"prompt\" in record:\n",
    "            q=record[\"prompt\"]\n",
    "            a=record[\"chosen\"]\n",
    "        else:\n",
    "            raise Exception(\"unknown record format: \"+str(record))\n",
    "\n",
    "        d={\n",
    "        \"instruction\":f\"{question_template}{q}{answer_template}\",\n",
    "        \"output\":a, \n",
    "        }\n",
    "        regen_record_list.append(d)\n"
   ]
  },
  {
   "cell_type": "code",
   "execution_count": 17,
   "metadata": {},
   "outputs": [],
   "source": [
    "import random\n",
    "random.shuffle(regen_record_list)"
   ]
  },
  {
   "cell_type": "code",
   "execution_count": 18,
   "metadata": {},
   "outputs": [],
   "source": [
    "import datasets\n",
    "\n",
    "regen_ds=datasets.Dataset.from_list(regen_record_list)"
   ]
  },
  {
   "cell_type": "code",
   "execution_count": 19,
   "metadata": {},
   "outputs": [
    {
     "name": "stderr",
     "output_type": "stream",
     "text": [
      "Saving the dataset (1/1 shards): 100%|██████████| 31321/31321 [00:00<00:00, 234746.12 examples/s]\n"
     ]
    }
   ],
   "source": [
    "regen_ds.save_to_disk(\"out/regen_master_ds\")"
   ]
  },
  {
   "cell_type": "code",
   "execution_count": 20,
   "metadata": {},
   "outputs": [
    {
     "data": {
      "text/plain": [
       "{'instruction': '以下は、タスクを説明する指示と、文脈のある入力の組み合わせです。要求を適切に満たす応答を書きなさい。\\n\\n### 指示:\\n小学校の教頭先生は、毎月、学校の全児童に飴を配ります。今月は、全校児童の数が先月より10人増え、計350人になりました。教頭先生は、一人当たり飴を2個ずつ配ります。しかし、飴の入った箱を開けてみると、教頭先生の勘違いで、実際には必要数より20個少ない数の飴しか入っていませんでした。\\n\\n(1) 最初に、教頭先生は全部で何個の��\\n\\n...\\n\\nMath problem:\\n\\n小学校の教頭先生は、毎月、学校の全児童に飴を配ります。今月は、全校児童の数が先月より10人増え、計350人になりました。教頭先生は、一人当たり飴を2個ずつ配ります。しかし、飴の入った箱を開けてみると、教頭先生の勘違いで、実際には必要数より20個少ない数の飴しか入っていませんでした。\\n\\n(1) 最初に、教頭先生は全部で何個の飴を準備する予定でしたか？\\n\\n(2) 足りない飴の数を、教頭先生は学校にある飴を補充する箱から補充することにしました。その飴を補充する箱には、白い飴と赤い飴が混ざって入っており、白い飴と赤い飴の数の比は2:3でした。教頭先生は児童に配布する飴の色のバランスを考えて、不足している飴20個の半分を白い飴、もう半分を赤い飴で補充することにしました。教頭先生は飴を補充する箱から白い飴と赤い飴をそれぞれ何個補充しましたか？\\n### 応答:\\n',\n",
       " 'output': '(1) 教頭先生は、一人当たり飴を2個ずつ配る予定なので、全校児童の数である350人と飴の個数をかけると、全部で700個の飴を準備する予定でした。\\n\\n(2) 足りない飴の数は20個です。教頭先生は不足している飴の半分を白い飴、もう半分を赤い飴で補充することにしたので、それぞれ10個補充することになります。飴を補充する箱には白い飴と赤い飴が混ざって入っており、白い飴と赤い飴の数の比は2:3なので、白い飴と赤い飴の総数は5つの倍数になっています。したがって、白い飴を10個補充するには、赤い飴を15個補充する必要があります。しかし、赤い飴は10個しか補充しない予定なので、白い飴を予定より少なく補充するか、赤い飴を予定より多く補充する必要があります。ここでは、白い飴を予定より少なく補充することにします。白い飴を9個補充すると、赤い飴は10個補充することになり、合計で19個補充することになります。最後の1個は、どちらかの色の飴を補充することになりますが、色のバランスを考えると、白い飴を補充するのが良いでしょう。したがって、教頭先生は飴を補充する箱から白い飴を10個、赤い飴を10個補充しました。\\n\\nただし、白い飴を9個補充して赤い飴を10個補充した場合でも、色のバランスはほぼ保たれています。どちらの回答でも正解とみなすことができます。'}"
      ]
     },
     "execution_count": 20,
     "metadata": {},
     "output_type": "execute_result"
    }
   ],
   "source": [
    "regen_ds[0]"
   ]
  },
  {
   "cell_type": "code",
   "execution_count": 21,
   "metadata": {},
   "outputs": [
    {
     "data": {
      "text/plain": [
       "31321"
      ]
     },
     "execution_count": 21,
     "metadata": {},
     "output_type": "execute_result"
    }
   ],
   "source": [
    "len(regen_ds)"
   ]
  },
  {
   "cell_type": "code",
   "execution_count": null,
   "metadata": {},
   "outputs": [],
   "source": []
  }
 ],
 "metadata": {
  "kernelspec": {
   "display_name": "llmeval",
   "language": "python",
   "name": "python3"
  },
  "language_info": {
   "codemirror_mode": {
    "name": "ipython",
    "version": 3
   },
   "file_extension": ".py",
   "mimetype": "text/x-python",
   "name": "python",
   "nbconvert_exporter": "python",
   "pygments_lexer": "ipython3",
   "version": "3.11.8"
  }
 },
 "nbformat": 4,
 "nbformat_minor": 2
}
