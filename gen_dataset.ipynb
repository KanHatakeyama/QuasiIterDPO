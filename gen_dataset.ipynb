{
 "cells": [
  {
   "cell_type": "code",
   "execution_count": 27,
   "metadata": {},
   "outputs": [],
   "source": [
    "from datasets import load_dataset\n",
    "import json"
   ]
  },
  {
   "cell_type": "code",
   "execution_count": 28,
   "metadata": {},
   "outputs": [
    {
     "name": "stderr",
     "output_type": "stream",
     "text": [
      "Downloading readme: 100%|██████████| 1.17k/1.17k [00:00<00:00, 2.74MB/s]\n",
      "Downloading data: 100%|██████████| 582k/582k [00:00<00:00, 707kB/s]\n",
      "Generating train split: 100%|██████████| 450/450 [00:00<00:00, 13853.36 examples/s]\n"
     ]
    },
    {
     "data": {
      "text/plain": [
       "{'messages': [{'role': 'user',\n",
       "   'content': '死刑廃止論者の主張を簡潔に要約し、それに対する死刑存置論者の反論の中で、あなたが最も説得的だと考えるものを説明できますか？'},\n",
       "  {'role': 'assistant',\n",
       "   'content': '死刑廃止論者の主張は、主に以下のような点に集約されます。\\n\\n1. 死刑は残虐な刑罰であり、人間の尊厳を傷つける。\\n2. 死刑は取り返しのつかない刑罰であり、冤罪の可能性を排除できない。\\n3. 死刑は犯罪抑止力として効果が薄く、他の刑罰と同等の抑止効果が得られる。\\n\\nこれに対する死刑存置論者の反論の中で、最も説得的だと考えられるのは、死刑が被害者遺族の心情を考慮した刑罰であるという点です。\\n\\n死刑存置論者は、凶悪犯罪の被害者遺族が犯人への強い憎悪や復讐心を抱くのは自然な感情であり、死刑はそうした遺族の心情を考慮した刑罰であると主張します。死刑を廃止することは、遺族の感情を無視し、彼らの苦しみを深めることにつながると考えます。\\n\\nまた、死刑存置論者は、死刑が凶悪犯罪に対する抑止力として一定の効果があるとも主張します。死刑が廃止された場合、凶悪犯罪が増加する可能性があり、社会の安全保障が脅かされる恐れがあると指摘します。\\n\\nしかし、死刑廃止論者も、被害者遺族の心情を考慮した対応や、犯罪抑止のための他の対策を提案しています。したがって、死刑存置論者の反論は、死刑廃止論者の主張を完全に否定するものではなく、両者の議論を踏まえた上で、社会として最善の選択を模索していくことが重要です。'}]}"
      ]
     },
     "execution_count": 28,
     "metadata": {},
     "output_type": "execute_result"
    }
   ],
   "source": [
    "name=\"team-hatakeyama-phase2/synth-magpie-jp-reasoning-nemotron-4\"\n",
    "ds=load_dataset(name,split=\"train\")"
   ]
  },
  {
   "cell_type": "code",
   "execution_count": 45,
   "metadata": {},
   "outputs": [
    {
     "data": {
      "text/plain": [
       "{'messages': [{'role': 'user',\n",
       "   'content': '次の数字の並びで、他のものと違い、規則性がないものはどれですか？16, 2, 14, 4, 12, 6, 10, 8, 9'},\n",
       "  {'role': 'assistant',\n",
       "   'content': '他の数字の並びと違い、規則性がないものは9です。他の数字は、偶数が一つおきに並んでおり、その間の奇数は、偶数を2倍したものから1を引いた数になっています。しかし、9だけはこの規則に当てはまりません。\\n\\n（規則に従った場合、9の前にある偶数6を2倍したものから1を引くと11になり、9とは異なります。）'}]}"
      ]
     },
     "execution_count": 45,
     "metadata": {},
     "output_type": "execute_result"
    }
   ],
   "source": [
    "\n",
    "ds[19]"
   ]
  },
  {
   "cell_type": "code",
   "execution_count": 4,
   "metadata": {},
   "outputs": [],
   "source": [
    "\n",
    "dataset_name_list=[\n",
    "    (\"team-hatakeyama-phase2/synth-persona-jp-math-nemotron-4\",\"train\"),\n",
    "    (\"team-hatakeyama-phase2/ChatBotLikeArena\",\"20240728\"),\n",
    "]"
   ]
  },
  {
   "cell_type": "code",
   "execution_count": 12,
   "metadata": {},
   "outputs": [],
   "source": [
    "ds_name,split=dataset_name_list[1]\n",
    "ds=load_dataset(ds_name,split=split)"
   ]
  },
  {
   "cell_type": "code",
   "execution_count": 20,
   "metadata": {},
   "outputs": [],
   "source": [
    "i=0\n",
    "record=ds[i]\n",
    "\n",
    "regen_record_list=[]\n",
    "for ds_name,split in dataset_name_list:\n",
    "    ds=load_dataset(ds_name,split=split)\n",
    "    for record in ds:\n",
    "        if \"messages\" in record:\n",
    "            q=record[\"messages\"][0][\"content\"]\n",
    "            a=record[\"messages\"][1][\"content\"]\n",
    "        elif \"prompt\" in record:\n",
    "            q=record[\"prompt\"]\n",
    "            a=record[\"chosen\"]\n",
    "        else:\n",
    "            raise Exception(\"unknown record format: \"+str(record))\n",
    "\n",
    "        d={\n",
    "        \"instruction\":q,\n",
    "        \"output\":a, \n",
    "        }\n",
    "        regen_record_list.append(d)\n"
   ]
  },
  {
   "cell_type": "code",
   "execution_count": 21,
   "metadata": {},
   "outputs": [
    {
     "data": {
      "text/plain": [
       "12713"
      ]
     },
     "execution_count": 21,
     "metadata": {},
     "output_type": "execute_result"
    }
   ],
   "source": [
    "len(regen_record_list)"
   ]
  },
  {
   "cell_type": "code",
   "execution_count": 22,
   "metadata": {},
   "outputs": [],
   "source": [
    "import datasets\n",
    "\n",
    "regen_ds=datasets.Dataset.from_list(regen_record_list)"
   ]
  },
  {
   "cell_type": "code",
   "execution_count": 26,
   "metadata": {},
   "outputs": [
    {
     "name": "stderr",
     "output_type": "stream",
     "text": [
      "Saving the dataset (1/1 shards): 100%|██████████| 12713/12713 [00:00<00:00, 249766.67 examples/s]\n"
     ]
    }
   ],
   "source": [
    "regen_ds.save_to_disk(\"out/regen_master_ds\")"
   ]
  },
  {
   "cell_type": "code",
   "execution_count": null,
   "metadata": {},
   "outputs": [],
   "source": []
  }
 ],
 "metadata": {
  "kernelspec": {
   "display_name": "llmeval",
   "language": "python",
   "name": "python3"
  },
  "language_info": {
   "codemirror_mode": {
    "name": "ipython",
    "version": 3
   },
   "file_extension": ".py",
   "mimetype": "text/x-python",
   "name": "python",
   "nbconvert_exporter": "python",
   "pygments_lexer": "ipython3",
   "version": "3.11.8"
  }
 },
 "nbformat": 4,
 "nbformat_minor": 2
}
