{
 "cells": [
  {
   "cell_type": "code",
   "execution_count": 10,
   "metadata": {},
   "outputs": [],
   "source": [
    "from datasets import load_dataset\n",
    "import json"
   ]
  },
  {
   "cell_type": "code",
   "execution_count": 11,
   "metadata": {},
   "outputs": [],
   "source": [
    "#name=\"team-hatakeyama-phase2/Synthetic-JP-EN-Coding-Dataset-1.25M\"\n",
    "#ds=load_dataset(name,split=\"train\")"
   ]
  },
  {
   "cell_type": "code",
   "execution_count": 12,
   "metadata": {},
   "outputs": [],
   "source": [
    "\n",
    "dataset_name_list=[\n",
    "    (\"team-hatakeyama-phase2/synth-persona-jp-math-nemotron-4\",\"train\",10**4),\n",
    "    (\"team-hatakeyama-phase2/ChatBotLikeArena\",\"20240728\",10**4),\n",
    "    (\"team-hatakeyama-phase2/Synthetic-JP-EN-Coding-Dataset-1.25M\",\"train\",2*10**4),\n",
    "]"
   ]
  },
  {
   "cell_type": "code",
   "execution_count": 13,
   "metadata": {},
   "outputs": [],
   "source": [
    "i=0\n",
    "question_template=\"以下は、タスクを説明する指示と、文脈のある入力の組み合わせです。要求を適切に満たす応答を書きなさい。\\n\\n### 指示:\\n\"\n",
    "answer_template=\"\\n### 応答:\\n\"\n",
    "regen_record_list=[]\n",
    "for ds_name,split,n_records in dataset_name_list:\n",
    "    ds=load_dataset(ds_name,split=split)\n",
    "    ds=ds.shuffle()\n",
    "\n",
    "    cnt=0\n",
    "    for record in ds:\n",
    "        cnt+=1\n",
    "        if cnt>n_records:\n",
    "            break\n",
    "\n",
    "        if \"messages\" in record:\n",
    "            q=record[\"messages\"][0][\"content\"]\n",
    "            a=record[\"messages\"][1][\"content\"]\n",
    "        elif \"prompt\" in record:\n",
    "            q=record[\"prompt\"]\n",
    "            a=record[\"chosen\"]\n",
    "        else:\n",
    "            raise Exception(\"unknown record format: \"+str(record))\n",
    "\n",
    "        d={\n",
    "        \"instruction\":f\"{question_template}{q}{answer_template}\",\n",
    "        \"output\":a, \n",
    "        }\n",
    "        regen_record_list.append(d)\n"
   ]
  },
  {
   "cell_type": "code",
   "execution_count": 14,
   "metadata": {},
   "outputs": [],
   "source": [
    "import random\n",
    "random.shuffle(regen_record_list)"
   ]
  },
  {
   "cell_type": "code",
   "execution_count": 15,
   "metadata": {},
   "outputs": [],
   "source": [
    "import datasets\n",
    "\n",
    "regen_ds=datasets.Dataset.from_list(regen_record_list)"
   ]
  },
  {
   "cell_type": "code",
   "execution_count": 16,
   "metadata": {},
   "outputs": [
    {
     "name": "stderr",
     "output_type": "stream",
     "text": [
      "Saving the dataset (1/1 shards): 100%|██████████| 31321/31321 [00:00<00:00, 355868.15 examples/s]\n"
     ]
    }
   ],
   "source": [
    "regen_ds.save_to_disk(\"out/regen_master_ds\")"
   ]
  },
  {
   "cell_type": "code",
   "execution_count": 17,
   "metadata": {},
   "outputs": [
    {
     "data": {
      "text/plain": [
       "{'instruction': '以下は、タスクを説明する指示と、文脈のある入力の組み合わせです。要求を適切に満たす応答を書きなさい。\\n\\n### 指示:\\nJavaで配列の要素に対する複数の条件を満たすかどうかを判断するプログラムを作成してください。このプログラムでは、forループを使用して配列の全要素に対して条件判断を行います。ただし、条件式は一つだけではなく、複数の条件を含む必要があります。\\n\\n#書き換えられた質問#が冗長になりすぎないように最善を尽くしてください。#書き換えられた質問#は#与えられた質問#に30〜40語のみ追加できます。\\n\\n#書き換えられた質問#で1つの文を長くしすぎないようにしてください。長い文は読みやすくするために複数の文に分割する必要があります。\\n### 応答:\\n',\n",
       " 'output': '#書き換えられた質問#：Javaで配列の要素に対する複数の条件を満たすかどうかを判断するプログラムを作成してください。このプログラムでは、forループを使用して配列の全要素に対して条件判断を行います。ただし、条件式は一つだけではなく、複数の条件を含む必要があります。\\n\\n以下に示すコードは、Javaで配列の要素に対する複数の条件を満たすかどうかを判断するプログラムです。\\n\\n```java\\npublic class Main {\\n    public static void main(String[] args) {\\n        int[] numbers = {1, 2, 3, 4, 5};\\n        \\n        // 条件1: 奇数であること\\n        // 条件2: 3より大きいこと\\n        for (int number : numbers) {\\n            if (number % 2 == 1 && number > 3) {\\n                System.out.println(number);\\n            }\\n        }\\n    }\\n}\\n```\\n\\nこのプログラムでは、`numbers`という名前の配列に格納された整数に対して、「奇数である」という条件と「3より大きい」という条件を両方満たすものを探し出します。そのような要素が見つかった場合、その値を表示します。この例では、5が条件を満たす唯一の要素なので、5が表示されます。'}"
      ]
     },
     "execution_count": 17,
     "metadata": {},
     "output_type": "execute_result"
    }
   ],
   "source": [
    "regen_ds[0]"
   ]
  },
  {
   "cell_type": "code",
   "execution_count": null,
   "metadata": {},
   "outputs": [],
   "source": []
  },
  {
   "cell_type": "code",
   "execution_count": 18,
   "metadata": {},
   "outputs": [
    {
     "data": {
      "text/plain": [
       "31321"
      ]
     },
     "execution_count": 18,
     "metadata": {},
     "output_type": "execute_result"
    }
   ],
   "source": [
    "len(regen_ds)"
   ]
  },
  {
   "cell_type": "code",
   "execution_count": null,
   "metadata": {},
   "outputs": [],
   "source": []
  }
 ],
 "metadata": {
  "kernelspec": {
   "display_name": "llmeval",
   "language": "python",
   "name": "python3"
  },
  "language_info": {
   "codemirror_mode": {
    "name": "ipython",
    "version": 3
   },
   "file_extension": ".py",
   "mimetype": "text/x-python",
   "name": "python",
   "nbconvert_exporter": "python",
   "pygments_lexer": "ipython3",
   "version": "3.11.8"
  }
 },
 "nbformat": 4,
 "nbformat_minor": 2
}
